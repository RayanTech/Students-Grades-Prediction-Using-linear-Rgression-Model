{
  "nbformat": 4,
  "nbformat_minor": 0,
  "metadata": {
    "colab": {
      "name": "StudentsGradPrediction.ipynb",
      "provenance": [],
      "collapsed_sections": [],
      "mount_file_id": "1q_vT4xPn_yZbrrNXOxTTNGAW_MgchU1T",
      "authorship_tag": "ABX9TyPTUxIO7OMBX2cd44yf7OEi",
      "include_colab_link": true
    },
    "kernelspec": {
      "display_name": "Python 3",
      "name": "python3"
    }
  },
  "cells": [
    {
      "cell_type": "markdown",
      "metadata": {
        "id": "view-in-github",
        "colab_type": "text"
      },
      "source": [
        "<a href=\"https://colab.research.google.com/github/RayanTech/StudentsGradesPrediction-Using-linearRgressionModel/blob/main/StudentsGradPrediction.ipynb\" target=\"_parent\"><img src=\"https://colab.research.google.com/assets/colab-badge.svg\" alt=\"Open In Colab\"/></a>"
      ]
    },
    {
      "cell_type": "code",
      "metadata": {
        "id": "V_ERq-LoCG4e"
      },
      "source": [
        "import pandas as pd\r\n",
        "import numpy as np\r\n",
        "import sklearn\r\n",
        "from sklearn import linear_model\r\n",
        "from sklearn.utils import shuffle\r\n",
        "import matplotlib.pyplot as plt\r\n",
        "import pickle\r\n",
        "from matplotlib import style\r\n",
        "import time"
      ],
      "execution_count": null,
      "outputs": []
    },
    {
      "cell_type": "code",
      "metadata": {
        "id": "GeOQhSJaQl_P"
      },
      "source": [
        "data = pd.read_csv('/content/drive/MyDrive/ColabNotebooks/student-mat.csv', sep=\";\")"
      ],
      "execution_count": null,
      "outputs": []
    },
    {
      "cell_type": "code",
      "metadata": {
        "id": "qSZKLX3QSXqn"
      },
      "source": [
        "data = data[['G1','G2','G3','studytime','failures','absences']]"
      ],
      "execution_count": null,
      "outputs": []
    },
    {
      "cell_type": "code",
      "metadata": {
        "id": "egyo_ox5ij6_"
      },
      "source": [
        "predict = 'G3' #label (label means the value that you're trying to predict)"
      ],
      "execution_count": null,
      "outputs": []
    },
    {
      "cell_type": "code",
      "metadata": {
        "id": "hsD8ENhgi3Oe"
      },
      "source": [
        "X = np.array(data.drop([predict],1))"
      ],
      "execution_count": null,
      "outputs": []
    },
    {
      "cell_type": "code",
      "metadata": {
        "id": "_j6IHuEbjjct"
      },
      "source": [
        "Y = np.array(data[predict])"
      ],
      "execution_count": null,
      "outputs": []
    },
    {
      "cell_type": "code",
      "metadata": {
        "id": "MINTuwYxzkfg"
      },
      "source": [
        "x_train, x_test, y_train, y_test = sklearn.model_selection.train_test_split(X,Y, test_size = 0.1)"
      ],
      "execution_count": null,
      "outputs": []
    },
    {
      "cell_type": "code",
      "metadata": {
        "id": "FBWInPU0PeHL"
      },
      "source": [
        "\"\"\"i = 0\r\n",
        "best = 0.9\r\n",
        "while i < 100:\r\n",
        "  x_train, x_test, y_train, y_test = sklearn.model_selection.train_test_split(X,Y, test_size = 0.1)\r\n",
        "  linear = linear_model.LinearRegression()\r\n",
        "  linear.fit(x_train, y_train)\r\n",
        "  acc = linear.score(x_test, y_test)\r\n",
        "  print(acc)\r\n",
        "  time.sleep(2)\r\n",
        "\r\n",
        "  if acc > best:\r\n",
        "    best = acc\r\n",
        "    with open(\"studentmodel.pickle\",\"wb\") as f:\r\n",
        "      pickle.dump(linear, f)\r\n",
        "    break\"\"\""
      ],
      "execution_count": null,
      "outputs": []
    },
    {
      "cell_type": "code",
      "metadata": {
        "id": "ykrMPC8Uzv3O"
      },
      "source": [
        "pickle_in = open(\"studentmodel.pickle\",\"rb\")\r\n",
        "linear = pickle.load(pickle_in)"
      ],
      "execution_count": null,
      "outputs": []
    },
    {
      "cell_type": "code",
      "metadata": {
        "colab": {
          "base_uri": "https://localhost:8080/"
        },
        "id": "AN9UjfjwWUKY",
        "outputId": "4ecf7ddb-f4fb-4af9-a791-3576160b8278"
      },
      "source": [
        "pred = linear.predict(x_test)\r\n",
        "for i in range(len(pred)):\r\n",
        "  print(i,\" \",pred[i], x_test[i], y_test[i])"
      ],
      "execution_count": null,
      "outputs": [
        {
          "output_type": "stream",
          "text": [
            "0   8.213576389680199 [ 9  9  2  2 15] 9\n",
            "1   5.070446093553091 [5 6 2 0 6] 6\n",
            "2   9.41917005848489 [ 9 10  2  0  2] 9\n",
            "3   11.806666550619964 [12 12  2  0  2] 11\n",
            "4   6.4345250675310055 [7 7 1 0 3] 8\n",
            "5   15.247578598810549 [16 15  2  0  0] 15\n",
            "6   18.17360696009882 [16 18  2  0  0] 19\n",
            "7   12.66125689288993 [13 13  3  0  0] 13\n",
            "8   11.835285142387226 [14 12  4  0  6] 13\n",
            "9   5.814736748157687 [5 8 2 3 0] 7\n",
            "10   8.085089122405327 [7 9 2 0 0] 8\n",
            "11   -1.7891803348254864 [5 0 1 3 0] 0\n",
            "12   8.777714225884099 [9 9 1 0 6] 10\n",
            "13   16.231835626595903 [14 16  1  0  3] 16\n",
            "14   8.500816243139132 [8 9 2 0 8] 10\n",
            "15   6.160680667052774 [ 6  7  2  1 15] 8\n",
            "16   15.256492839499813 [14 15  1  0  3] 16\n",
            "17   19.32317197827647 [19 19  4  0  4] 20\n",
            "18   8.390605696917554 [10  9  3  0  2] 8\n",
            "19   8.899339556062973 [10 10  3  2  8] 10\n",
            "20   7.525473456043043 [8 8 2 0 8] 6\n",
            "21   11.375250687871436 [12 12  4  0  1] 12\n",
            "22   10.261166198557047 [12 10  2  0 14] 11\n",
            "23   5.357885974902601 [7 6 1 0 0] 0\n",
            "24   11.85988812509121 [11 12  1  0  2] 11\n",
            "25   12.20808437547014 [12 12  1  0  8] 12\n",
            "26   9.341097289525466 [ 8 10  2  0  4] 9\n",
            "27   11.60784133683442 [12 12  3  0  2] 11\n",
            "28   8.298223632074501 [8 9 2 0 2] 10\n",
            "29   -0.3094066179878323 [11  0  3  0  0] 0\n",
            "30   16.368525025220936 [17 16  2  0  0] 17\n",
            "31   9.408628159880344 [ 8 10  2  0  6] 10\n",
            "32   3.5046883514134732 [6 5 3 1 0] 0\n",
            "33   9.6353581504208 [10 10  2  1 14] 9\n",
            "34   10.618189253854698 [11 11  2  0  0] 10\n",
            "35   15.048753385025005 [16 15  3  0  0] 15\n",
            "36   13.455178301901018 [15 13  2  0  9] 15\n",
            "37   10.817014467640242 [11 11  1  0  0] 10\n",
            "38   10.111795161963661 [11 10  1  0  8] 10\n",
            "39   5.9124422336252485 [ 8  6  2  0 18] 7\n"
          ],
          "name": "stdout"
        }
      ]
    },
    {
      "cell_type": "code",
      "metadata": {
        "colab": {
          "base_uri": "https://localhost:8080/",
          "height": 299
        },
        "id": "TKC-LdljRW4U",
        "outputId": "1c759d89-8188-421b-8d66-5eafac1d88ff"
      },
      "source": [
        "e1 = 'G1'\r\n",
        "style.use('ggplot')\r\n",
        "plt.scatter(data[e1], data[predict])\r\n",
        "plt.xlabel(e1)\r\n",
        "plt.ylabel(\"predicted grades\")"
      ],
      "execution_count": null,
      "outputs": [
        {
          "output_type": "execute_result",
          "data": {
            "text/plain": [
              "Text(0, 0.5, 'predicted grades')"
            ]
          },
          "metadata": {
            "tags": []
          },
          "execution_count": 242
        },
        {
          "output_type": "display_data",
          "data": {
            "image/png": "[encoded data removed]",
            "text/plain": [
              "<Figure size 432x288 with 1 Axes>"
            ]
          },
          "metadata": {
            "tags": []
          }
        }
      ]
    },
    {
      "cell_type": "code",
      "metadata": {
        "id": "bJbiYnEZaJV-"
      },
      "source": [
        ""
      ],
      "execution_count": null,
      "outputs": []
    }
  ]
}